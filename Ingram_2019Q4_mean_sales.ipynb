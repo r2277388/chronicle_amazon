{
 "cells": [
  {
   "cell_type": "code",
   "execution_count": 1,
   "id": "distributed-sudan",
   "metadata": {},
   "outputs": [],
   "source": [
    "import pyodbc\n",
    "import os.path\n",
    "import glob\n",
    "import pandas as pd\n",
    "import numpy as np\n",
    "from datetime import date\n",
    "from datetime import datetime as dt\n",
    "from dateutil.relativedelta import relativedelta\n",
    "import getpass\n",
    "\n",
    "import warnings\n",
    "warnings.simplefilter(\"ignore\")\n",
    "\n",
    "pd.set_option('display.max_columns', None)"
   ]
  },
  {
   "cell_type": "code",
   "execution_count": 2,
   "id": "automotive-florida",
   "metadata": {},
   "outputs": [],
   "source": [
    "# SQL python connection to our server\n",
    "conn = pyodbc.connect('Driver={SQL Server};'\n",
    "                      'Server=sql-2-db;'\n",
    "                      'Database=CBQ2;')\n",
    "                    \n",
    "cursor = conn.cursor()"
   ]
  },
  {
   "cell_type": "code",
   "execution_count": 3,
   "id": "likely-argentina",
   "metadata": {},
   "outputs": [],
   "source": [
    "# Code to get last sales diagnostic file from folder.\n",
    "folder_path = r'G:\\SALES\\2019 Sales Reports\\Sell Through Reporting\\Ingram'\n",
    "file_glob_detail = r'\\*Ingram*xlsx'\n",
    "files = glob.glob(folder_path + file_glob_detail)\n",
    "file_detail = max(files, key=os.path.getctime)\n",
    "\n",
    "# file_glob_summary = r'\\*Summary*csv'\n",
    "# files = glob.glob(folder_path + file_glob_summary)\n",
    "# file_summary = max(files, key=os.path.getctime)"
   ]
  },
  {
   "cell_type": "code",
   "execution_count": 4,
   "id": "approximate-teach",
   "metadata": {},
   "outputs": [
    {
     "name": "stdout",
     "output_type": "stream",
     "text": [
      "G:\\SALES\\2019 Sales Reports\\Sell Through Reporting\\Ingram\\2019 Flash Ingram 010519 v 122918.xlsx\n",
      "G:\\SALES\\2019 Sales Reports\\Sell Through Reporting\\Ingram\\2019 Flash Ingram 011219 v 010519.xlsx\n",
      "G:\\SALES\\2019 Sales Reports\\Sell Through Reporting\\Ingram\\2019 Flash Ingram 011919 v 011219.xlsx\n",
      "G:\\SALES\\2019 Sales Reports\\Sell Through Reporting\\Ingram\\2019 Flash Ingram 020219 v 012619.xlsx\n",
      "G:\\SALES\\2019 Sales Reports\\Sell Through Reporting\\Ingram\\2019 Flash Ingram 020919 v 020219.xlsx\n",
      "G:\\SALES\\2019 Sales Reports\\Sell Through Reporting\\Ingram\\2019 Flash Ingram 022319 v 021619.xlsx\n",
      "G:\\SALES\\2019 Sales Reports\\Sell Through Reporting\\Ingram\\2019 Flash Ingram 030219 v 022319.xlsx\n",
      "G:\\SALES\\2019 Sales Reports\\Sell Through Reporting\\Ingram\\2019 Flash Ingram 101319 - 101519.xlsx\n",
      "G:\\SALES\\2019 Sales Reports\\Sell Through Reporting\\Ingram\\2019 Flash Ingram 101619 - 101719.xlsx\n",
      "G:\\SALES\\2019 Sales Reports\\Sell Through Reporting\\Ingram\\2019 Flash Ingram 101819 - 102019.xlsx\n",
      "G:\\SALES\\2019 Sales Reports\\Sell Through Reporting\\Ingram\\2019 Flash Ingram 102119 - 102219.xlsx\n",
      "G:\\SALES\\2019 Sales Reports\\Sell Through Reporting\\Ingram\\2019 Flash Ingram 102319 - 102419.xlsx\n",
      "G:\\SALES\\2019 Sales Reports\\Sell Through Reporting\\Ingram\\2019 Flash Ingram 102519 - 102719.xlsx\n",
      "G:\\SALES\\2019 Sales Reports\\Sell Through Reporting\\Ingram\\2019 Flash Ingram 102819 - 102919.xlsx\n",
      "G:\\SALES\\2019 Sales Reports\\Sell Through Reporting\\Ingram\\2019 Flash Ingram 103019 - 103119.xlsx\n",
      "G:\\SALES\\2019 Sales Reports\\Sell Through Reporting\\Ingram\\2019 Flash Ingram 103119 - 110719.xlsx\n",
      "G:\\SALES\\2019 Sales Reports\\Sell Through Reporting\\Ingram\\2019 Flash Ingram 110119 - 110319.xlsx\n",
      "G:\\SALES\\2019 Sales Reports\\Sell Through Reporting\\Ingram\\2019 Flash Ingram 110319 - 111019.xlsx\n",
      "G:\\SALES\\2019 Sales Reports\\Sell Through Reporting\\Ingram\\2019 Flash Ingram 110519 - 111219.xlsx\n",
      "G:\\SALES\\2019 Sales Reports\\Sell Through Reporting\\Ingram\\2019 Flash Ingram 110719 - 111419.xlsx\n",
      "G:\\SALES\\2019 Sales Reports\\Sell Through Reporting\\Ingram\\2019 Flash Ingram 111019 - 111719.xlsx\n",
      "G:\\SALES\\2019 Sales Reports\\Sell Through Reporting\\Ingram\\2019 Flash Ingram 111219 - 111919.xlsx\n",
      "G:\\SALES\\2019 Sales Reports\\Sell Through Reporting\\Ingram\\2019 Flash Ingram 111419 - 112119.xlsx\n",
      "G:\\SALES\\2019 Sales Reports\\Sell Through Reporting\\Ingram\\2019 Flash Ingram 111719 - 112419.xlsx\n",
      "G:\\SALES\\2019 Sales Reports\\Sell Through Reporting\\Ingram\\2019 Flash Ingram 111919 - 112619.xlsx\n",
      "G:\\SALES\\2019 Sales Reports\\Sell Through Reporting\\Ingram\\2019 Flash Ingram 112119 - 112819.xlsx\n",
      "G:\\SALES\\2019 Sales Reports\\Sell Through Reporting\\Ingram\\2019 Flash Ingram 112419 - 120119.xlsx\n",
      "G:\\SALES\\2019 Sales Reports\\Sell Through Reporting\\Ingram\\2019 Flash Ingram 112619 - 120319.xlsx\n",
      "G:\\SALES\\2019 Sales Reports\\Sell Through Reporting\\Ingram\\2019 Flash Ingram 120119 - 120819.xlsx\n",
      "G:\\SALES\\2019 Sales Reports\\Sell Through Reporting\\Ingram\\2019 Flash Ingram 120319 - 121019.xlsx\n",
      "G:\\SALES\\2019 Sales Reports\\Sell Through Reporting\\Ingram\\2019 Flash Ingram 120519 - 121219.xlsx\n",
      "G:\\SALES\\2019 Sales Reports\\Sell Through Reporting\\Ingram\\2019 Flash Ingram 120819 - 121519.xlsx\n",
      "G:\\SALES\\2019 Sales Reports\\Sell Through Reporting\\Ingram\\Week 41 - 2019 Flash Ingram (101219).xlsx\n",
      "G:\\SALES\\2019 Sales Reports\\Sell Through Reporting\\Ingram\\Week 51 - 2019 Flash Ingram (122119).xlsx\n",
      "G:\\SALES\\2019 Sales Reports\\Sell Through Reporting\\Ingram\\Week 52 - 2019 Flash Ingram (122819).xlsx\n"
     ]
    }
   ],
   "source": [
    "for f in files:\n",
    "    print(f)"
   ]
  },
  {
   "cell_type": "code",
   "execution_count": 5,
   "id": "accepting-highlight",
   "metadata": {},
   "outputs": [
    {
     "data": {
      "text/plain": [
       "list"
      ]
     },
     "execution_count": 5,
     "metadata": {},
     "output_type": "execute_result"
    }
   ],
   "source": [
    "type(files)"
   ]
  },
  {
   "cell_type": "code",
   "execution_count": 17,
   "id": "collectible-toronto",
   "metadata": {},
   "outputs": [],
   "source": [
    "files_q4 = files[7:]"
   ]
  },
  {
   "cell_type": "code",
   "execution_count": 93,
   "id": "fresh-lawyer",
   "metadata": {},
   "outputs": [
    {
     "name": "stdout",
     "output_type": "stream",
     "text": [
      "Rows added: 6,481.\t ||| \tPercent Completed: 4%\n",
      "         PUB        ISBN 13  Sales (10/13 - 10/15)\n",
      "0  Chronicle  9781452136448                    125\n",
      "1  Chronicle  9781452182759                     98\n",
      "\n",
      "Rows added: 13,142.\t ||| \tPercent Completed: 7%\n",
      "          PUB        ISBN 13  Sales (10/16 - 10/17)\n",
      "0   Chronicle  9781452175218                     95\n",
      "1  Tourbillon  9782747086998                     66\n",
      "\n",
      "Rows added: 19,739.\t ||| \tPercent Completed: 11%\n",
      "         PUB        ISBN 13  Sales (10/18 - 10/20)\n",
      "0  Moleskine  8051272892741                     64\n",
      "1  Chronicle  9781452128306                     50\n",
      "\n",
      "Rows added: 26,231.\t ||| \tPercent Completed: 14%\n",
      "         PUB        ISBN 13  Sales (10/21 - 10/22)\n",
      "0  Chronicle  9781452182759                    102\n",
      "1  Chronicle  9781452111735                     85\n",
      "\n",
      "Rows added: 32,693.\t ||| \tPercent Completed: 18%\n",
      "         PUB        ISBN 13  Sales (10/23 - 10/24)\n",
      "0  Chronicle  9781452182759                   3261\n",
      "1  Chronicle  9781452171197                    147\n",
      "\n",
      "Rows added: 39,042.\t ||| \tPercent Completed: 21%\n",
      "         PUB        ISBN 13  Sales (10/25 - 10/27)\n",
      "0  Chronicle  9781452182759                   1022\n",
      "1  Chronicle  9781452145037                    130\n",
      "\n",
      "Rows added: 45,654.\t ||| \tPercent Completed: 25%\n",
      "         PUB        ISBN 13  Sales (10/28 - 10/29)\n",
      "0  Chronicle  9781452182759                    298\n",
      "1  Chronicle  9781452145037                    117\n",
      "\n",
      "Rows added: 52,243.\t ||| \tPercent Completed: 29%\n",
      "                       PUB        ISBN 13  Sales (10/30 - 10/31)\n",
      "0  Hardie Grant Publishing  9781787131224                    336\n",
      "1                Chronicle  9781452155821                    125\n",
      "\n",
      "Rows added: 58,818.\t ||| \tPercent Completed: 32%\n",
      "                       PUB        ISBN 13  Sales (10/31 - 11/07)\n",
      "0  Hardie Grant Publishing  9781787131224                    423\n",
      "1                Chronicle  9781452155821                    293\n",
      "\n",
      "Rows added: 65,368.\t ||| \tPercent Completed: 36%\n",
      "                       PUB        ISBN 13  Sales (11/01 - 11/03)\n",
      "0                Chronicle  9781452159256                    162\n",
      "1  Hardie Grant Publishing  9781787131224                     86\n",
      "\n",
      "Rows added: 72,505.\t ||| \tPercent Completed: 39%\n",
      "         PUB        ISBN 13  Sales (11/03 - 11/10)\n",
      "0  Chronicle  9781452182759                    483\n",
      "1  Chronicle  9781452155821                    233\n",
      "\n",
      "Rows added: 79,556.\t ||| \tPercent Completed: 43%\n",
      "         PUB        ISBN 13  Sales (11/05 - 11/12)\n",
      "0  Chronicle  9781452182759                   1179\n",
      "1  Chronicle  9781452111735                    266\n",
      "\n",
      "Rows added: 86,248.\t ||| \tPercent Completed: 46%\n",
      "         PUB        ISBN 13  Sales (11/07 - 11/14)\n",
      "0  Chronicle  9781452159256                   1107\n",
      "1  Chronicle  9781452182759                   1769\n",
      "\n",
      "Rows added: 92,978.\t ||| \tPercent Completed: 50%\n",
      "         PUB        ISBN 13  Sales (11/10 - 11/17)\n",
      "0  Chronicle  9781452182759                   1497\n",
      "1  Chronicle  9781452159256                   1102\n",
      "\n",
      "Rows added: 99,636.\t ||| \tPercent Completed: 54%\n",
      "         PUB        ISBN 13  Sales (11/12 - 11/19)\n",
      "0  Chronicle  9781452182759                   1724\n",
      "1  Chronicle  9781452159256                   1105\n",
      "\n",
      "Rows added: 106,458.\t ||| \tPercent Completed: 57%\n",
      "             PUB        ISBN 13  Sales (11/14 - 11/21)\n",
      "0  Laurence King  9781780674889                    762\n",
      "1      Chronicle  9781452175867                    267\n",
      "\n",
      "Rows added: 113,228.\t ||| \tPercent Completed: 61%\n",
      "             PUB        ISBN 13  Sales (11/17 - 11/24)\n",
      "0      Chronicle  9781452182759                    949\n",
      "1  Laurence King  9781780674889                    854\n",
      "\n",
      "Rows added: 119,975.\t ||| \tPercent Completed: 64%\n",
      "             PUB        ISBN 13  Sales (11/19 - 11/26)\n",
      "0  Laurence King  9781780674889                    869\n",
      "1      Chronicle  9781452182759                    581\n",
      "\n",
      "Rows added: 126,690.\t ||| \tPercent Completed: 68%\n",
      "             PUB        ISBN 13  Sales (11/21 - 11/28)\n",
      "0      Chronicle  9781452111735                    623\n",
      "1  Laurence King  9781780674889                    518\n",
      "\n",
      "Rows added: 133,405.\t ||| \tPercent Completed: 71%\n",
      "         PUB        ISBN 13  Sales (11/24 - 12/01)\n",
      "0  Chronicle  9781452111735                    745\n",
      "1  Chronicle  9781452139111                    401\n",
      "\n",
      "Rows added: 140,167.\t ||| \tPercent Completed: 75%\n",
      "         PUB        ISBN 13  Sales (11/26 - 12/03)\n",
      "0  Chronicle  9781452111735                   1440\n",
      "1  Chronicle  9781452178592                    638\n",
      "\n",
      "Rows added: 146,947.\t ||| \tPercent Completed: 79%\n",
      "         PUB        ISBN 13  Sales (12/01 - 12/08)\n",
      "0  Chronicle  9781452111735                    948\n",
      "1  Chronicle  9781452139111                    603\n",
      "\n",
      "Rows added: 153,773.\t ||| \tPercent Completed: 82%\n",
      "         PUB        ISBN 13  Sales (12/03 - 12/10)\n",
      "0  Chronicle  9781452182759                    988\n",
      "1  Chronicle  9781452179612                    906\n",
      "\n",
      "Rows added: 160,593.\t ||| \tPercent Completed: 86%\n",
      "         PUB        ISBN 13  Sales (12/05 - 12/12)\n",
      "0  Chronicle  9781452139111                   1543\n",
      "1  Chronicle  9781452182759                   1398\n",
      "\n",
      "Rows added: 167,417.\t ||| \tPercent Completed: 89%\n",
      "         PUB        ISBN 13  Sales (12/08 - 12/15)\n",
      "0  Chronicle  9781452179612                   1623\n",
      "1  Chronicle  9781452182759                   1260\n",
      "\n",
      "Rows added: 173,833.\t ||| \tPercent Completed: 93%\n",
      "         PUB        ISBN 13  This Week's Sales\n",
      "0  Chronicle  9781452156484                440\n",
      "1  Chronicle  9781452155821                229\n",
      "\n",
      "Rows added: 180,511.\t ||| \tPercent Completed: 96%\n",
      "         PUB        ISBN 13  This Week's Sales (12/15 - 12/21)\n",
      "0  Chronicle  9781452182759                               2777\n",
      "1  Chronicle  9781452139111                               1370\n",
      "\n",
      "Rows added: 190,408.\t ||| \tPercent Completed: 100%\n",
      "         PUB        ISBN 13  This Week's Sales (12/22 - 12/28)\n",
      "0  Chronicle  9781452182759                              902.0\n",
      "1  Chronicle  9781452174037                              570.0\n",
      "\n"
     ]
    }
   ],
   "source": [
    "df_new = pd.DataFrame()\n",
    "\n",
    "for i,f in enumerate(files_q4):\n",
    "    df_week = pd.read_excel(f\n",
    "                   ,usecols=[0,4,11]\n",
    "                   ,engine='openpyxl'\n",
    "                   ,skiprows=1\n",
    "                    ,dtype={'ISBN 13':str},\n",
    "                   )\n",
    "    df_new = pd.concat([df_new,df_week])\n",
    "    print(f\"Rows added: {df_new.shape[0]:,}.\\t ||| \\tPercent Completed: {(i+1)/len(files_q4):.0%}\")\n",
    "    print(df_week.head(2))\n",
    "    print()"
   ]
  },
  {
   "cell_type": "code",
   "execution_count": 94,
   "id": "pleased-excess",
   "metadata": {},
   "outputs": [
    {
     "data": {
      "text/plain": [
       "PUB                                   object\n",
       "ISBN 13                               object\n",
       "Sales (10/13 - 10/15)                float64\n",
       "Sales (10/16 - 10/17)                float64\n",
       "Sales (10/18 - 10/20)                float64\n",
       "Sales (10/21 - 10/22)                float64\n",
       "Sales (10/23 - 10/24)                float64\n",
       "Sales (10/25 - 10/27)                float64\n",
       "Sales (10/28 - 10/29)                float64\n",
       "Sales (10/30 - 10/31)                float64\n",
       "Sales (10/31 - 11/07)                float64\n",
       "Sales (11/01 - 11/03)                float64\n",
       "Sales (11/03 - 11/10)                float64\n",
       "Sales (11/05 - 11/12)                float64\n",
       "Sales (11/07 - 11/14)                float64\n",
       "Sales (11/10 - 11/17)                float64\n",
       "Sales (11/12 - 11/19)                float64\n",
       "Sales (11/14 - 11/21)                float64\n",
       "Sales (11/17 - 11/24)                float64\n",
       "Sales (11/19 - 11/26)                float64\n",
       "Sales (11/21 - 11/28)                float64\n",
       "Sales (11/24 - 12/01)                float64\n",
       "Sales (11/26 - 12/03)                float64\n",
       "Sales (12/01 - 12/08)                float64\n",
       "Sales (12/03 - 12/10)                float64\n",
       "Sales (12/05 - 12/12)                float64\n",
       "Sales (12/08 - 12/15)                float64\n",
       "This Week's Sales                    float64\n",
       "This Week's Sales (12/15 - 12/21)    float64\n",
       "This Week's Sales (12/22 - 12/28)    float64\n",
       "dtype: object"
      ]
     },
     "execution_count": 94,
     "metadata": {},
     "output_type": "execute_result"
    }
   ],
   "source": [
    "df_new.dtypes"
   ]
  },
  {
   "cell_type": "code",
   "execution_count": 95,
   "id": "jewish-competition",
   "metadata": {},
   "outputs": [],
   "source": [
    "df_new.drop([\"This Week's Sales\"],axis=1,inplace=True)"
   ]
  },
  {
   "cell_type": "code",
   "execution_count": 100,
   "id": "caroline-invasion",
   "metadata": {},
   "outputs": [],
   "source": [
    "df_new = df_new.melt(id_vars=['PUB','ISBN 13']\n",
    "            ,var_name = 'Date'\n",
    "            ,value_name = 'Value')"
   ]
  },
  {
   "cell_type": "code",
   "execution_count": 107,
   "id": "likely-translation",
   "metadata": {},
   "outputs": [],
   "source": [
    "df_new = df_new.loc[~df_new['PUB'].isnull()]"
   ]
  },
  {
   "cell_type": "code",
   "execution_count": 108,
   "id": "surprising-europe",
   "metadata": {},
   "outputs": [
    {
     "data": {
      "text/plain": [
       "PUB              0\n",
       "ISBN 13          0\n",
       "Date             0\n",
       "Value      4877256\n",
       "dtype: int64"
      ]
     },
     "execution_count": 108,
     "metadata": {},
     "output_type": "execute_result"
    }
   ],
   "source": [
    "df_new.isnull().sum()"
   ]
  },
  {
   "cell_type": "code",
   "execution_count": 109,
   "id": "stylish-watershed",
   "metadata": {},
   "outputs": [
    {
     "data": {
      "text/plain": [
       "(5058180, 4)"
      ]
     },
     "execution_count": 109,
     "metadata": {},
     "output_type": "execute_result"
    }
   ],
   "source": [
    "df_new.shape"
   ]
  },
  {
   "cell_type": "code",
   "execution_count": 122,
   "id": "extraordinary-fountain",
   "metadata": {},
   "outputs": [],
   "source": [
    "df_pub_date = df_new.groupby(['PUB','Date']).sum().reset_index()"
   ]
  },
  {
   "cell_type": "code",
   "execution_count": 129,
   "id": "knowing-jewel",
   "metadata": {},
   "outputs": [
    {
     "data": {
      "text/plain": [
       "array(['-', 'Chronicle', 'Creative Company', 'Do Books', 'Galison',\n",
       "       'Hardie Grant Publishing', 'Laurence King', 'Moleskine',\n",
       "       'PQ Blackwell', 'Princeton', 'Sierra Club', 'Tourbillon'],\n",
       "      dtype=object)"
      ]
     },
     "execution_count": 129,
     "metadata": {},
     "output_type": "execute_result"
    }
   ],
   "source": [
    "df_pub_date['PUB'].unique()"
   ]
  },
  {
   "cell_type": "code",
   "execution_count": 134,
   "id": "solved-melissa",
   "metadata": {},
   "outputs": [],
   "source": [
    "df_pub_date = df_pub_date.loc[~(df_pub_date['PUB']== \"-\")]"
   ]
  },
  {
   "cell_type": "code",
   "execution_count": 139,
   "id": "matched-korean",
   "metadata": {},
   "outputs": [
    {
     "data": {
      "text/html": [
       "<div>\n",
       "<style scoped>\n",
       "    .dataframe tbody tr th:only-of-type {\n",
       "        vertical-align: middle;\n",
       "    }\n",
       "\n",
       "    .dataframe tbody tr th {\n",
       "        vertical-align: top;\n",
       "    }\n",
       "\n",
       "    .dataframe thead th {\n",
       "        text-align: right;\n",
       "    }\n",
       "</style>\n",
       "<table border=\"1\" class=\"dataframe\">\n",
       "  <thead>\n",
       "    <tr style=\"text-align: right;\">\n",
       "      <th></th>\n",
       "      <th>PUB</th>\n",
       "      <th>Date</th>\n",
       "      <th>Value</th>\n",
       "    </tr>\n",
       "  </thead>\n",
       "  <tbody>\n",
       "    <tr>\n",
       "      <th>27</th>\n",
       "      <td>Chronicle</td>\n",
       "      <td>Sales (10/13 - 10/15)</td>\n",
       "      <td>4850.0</td>\n",
       "    </tr>\n",
       "    <tr>\n",
       "      <th>28</th>\n",
       "      <td>Chronicle</td>\n",
       "      <td>Sales (10/16 - 10/17)</td>\n",
       "      <td>3703.0</td>\n",
       "    </tr>\n",
       "    <tr>\n",
       "      <th>29</th>\n",
       "      <td>Chronicle</td>\n",
       "      <td>Sales (10/18 - 10/20)</td>\n",
       "      <td>1612.0</td>\n",
       "    </tr>\n",
       "    <tr>\n",
       "      <th>30</th>\n",
       "      <td>Chronicle</td>\n",
       "      <td>Sales (10/21 - 10/22)</td>\n",
       "      <td>4329.0</td>\n",
       "    </tr>\n",
       "    <tr>\n",
       "      <th>31</th>\n",
       "      <td>Chronicle</td>\n",
       "      <td>Sales (10/23 - 10/24)</td>\n",
       "      <td>6907.0</td>\n",
       "    </tr>\n",
       "    <tr>\n",
       "      <th>32</th>\n",
       "      <td>Chronicle</td>\n",
       "      <td>Sales (10/25 - 10/27)</td>\n",
       "      <td>2528.0</td>\n",
       "    </tr>\n",
       "    <tr>\n",
       "      <th>33</th>\n",
       "      <td>Chronicle</td>\n",
       "      <td>Sales (10/28 - 10/29)</td>\n",
       "      <td>5019.0</td>\n",
       "    </tr>\n",
       "    <tr>\n",
       "      <th>34</th>\n",
       "      <td>Chronicle</td>\n",
       "      <td>Sales (10/30 - 10/31)</td>\n",
       "      <td>3920.0</td>\n",
       "    </tr>\n",
       "    <tr>\n",
       "      <th>35</th>\n",
       "      <td>Chronicle</td>\n",
       "      <td>Sales (10/31 - 11/07)</td>\n",
       "      <td>13102.0</td>\n",
       "    </tr>\n",
       "    <tr>\n",
       "      <th>36</th>\n",
       "      <td>Chronicle</td>\n",
       "      <td>Sales (11/01 - 11/03)</td>\n",
       "      <td>1504.0</td>\n",
       "    </tr>\n",
       "    <tr>\n",
       "      <th>37</th>\n",
       "      <td>Chronicle</td>\n",
       "      <td>Sales (11/03 - 11/10)</td>\n",
       "      <td>12546.0</td>\n",
       "    </tr>\n",
       "    <tr>\n",
       "      <th>38</th>\n",
       "      <td>Chronicle</td>\n",
       "      <td>Sales (11/05 - 11/12)</td>\n",
       "      <td>15737.0</td>\n",
       "    </tr>\n",
       "    <tr>\n",
       "      <th>39</th>\n",
       "      <td>Chronicle</td>\n",
       "      <td>Sales (11/07 - 11/14)</td>\n",
       "      <td>16774.0</td>\n",
       "    </tr>\n",
       "    <tr>\n",
       "      <th>40</th>\n",
       "      <td>Chronicle</td>\n",
       "      <td>Sales (11/10 - 11/17)</td>\n",
       "      <td>14822.0</td>\n",
       "    </tr>\n",
       "    <tr>\n",
       "      <th>41</th>\n",
       "      <td>Chronicle</td>\n",
       "      <td>Sales (11/12 - 11/19)</td>\n",
       "      <td>17363.0</td>\n",
       "    </tr>\n",
       "    <tr>\n",
       "      <th>42</th>\n",
       "      <td>Chronicle</td>\n",
       "      <td>Sales (11/14 - 11/21)</td>\n",
       "      <td>16853.0</td>\n",
       "    </tr>\n",
       "    <tr>\n",
       "      <th>43</th>\n",
       "      <td>Chronicle</td>\n",
       "      <td>Sales (11/17 - 11/24)</td>\n",
       "      <td>15012.0</td>\n",
       "    </tr>\n",
       "    <tr>\n",
       "      <th>44</th>\n",
       "      <td>Chronicle</td>\n",
       "      <td>Sales (11/19 - 11/26)</td>\n",
       "      <td>19077.0</td>\n",
       "    </tr>\n",
       "    <tr>\n",
       "      <th>45</th>\n",
       "      <td>Chronicle</td>\n",
       "      <td>Sales (11/21 - 11/28)</td>\n",
       "      <td>17092.0</td>\n",
       "    </tr>\n",
       "    <tr>\n",
       "      <th>46</th>\n",
       "      <td>Chronicle</td>\n",
       "      <td>Sales (11/24 - 12/01)</td>\n",
       "      <td>15902.0</td>\n",
       "    </tr>\n",
       "  </tbody>\n",
       "</table>\n",
       "</div>"
      ],
      "text/plain": [
       "          PUB                   Date    Value\n",
       "27  Chronicle  Sales (10/13 - 10/15)   4850.0\n",
       "28  Chronicle  Sales (10/16 - 10/17)   3703.0\n",
       "29  Chronicle  Sales (10/18 - 10/20)   1612.0\n",
       "30  Chronicle  Sales (10/21 - 10/22)   4329.0\n",
       "31  Chronicle  Sales (10/23 - 10/24)   6907.0\n",
       "32  Chronicle  Sales (10/25 - 10/27)   2528.0\n",
       "33  Chronicle  Sales (10/28 - 10/29)   5019.0\n",
       "34  Chronicle  Sales (10/30 - 10/31)   3920.0\n",
       "35  Chronicle  Sales (10/31 - 11/07)  13102.0\n",
       "36  Chronicle  Sales (11/01 - 11/03)   1504.0\n",
       "37  Chronicle  Sales (11/03 - 11/10)  12546.0\n",
       "38  Chronicle  Sales (11/05 - 11/12)  15737.0\n",
       "39  Chronicle  Sales (11/07 - 11/14)  16774.0\n",
       "40  Chronicle  Sales (11/10 - 11/17)  14822.0\n",
       "41  Chronicle  Sales (11/12 - 11/19)  17363.0\n",
       "42  Chronicle  Sales (11/14 - 11/21)  16853.0\n",
       "43  Chronicle  Sales (11/17 - 11/24)  15012.0\n",
       "44  Chronicle  Sales (11/19 - 11/26)  19077.0\n",
       "45  Chronicle  Sales (11/21 - 11/28)  17092.0\n",
       "46  Chronicle  Sales (11/24 - 12/01)  15902.0"
      ]
     },
     "execution_count": 139,
     "metadata": {},
     "output_type": "execute_result"
    }
   ],
   "source": [
    "df_pub_date.head(20)"
   ]
  },
  {
   "cell_type": "code",
   "execution_count": 140,
   "id": "chinese-respect",
   "metadata": {},
   "outputs": [],
   "source": [
    "df_pub = df_pub_date.groupby('PUB').mean()"
   ]
  },
  {
   "cell_type": "code",
   "execution_count": 144,
   "id": "atmospheric-johnson",
   "metadata": {},
   "outputs": [],
   "source": [
    "path = r'G:\\SALES\\2022 Sales Reports\\Reports\\Misc\\2022.09.28_ingram_py.xlsx'\n",
    "writer = pd.ExcelWriter(path, engine='xlsxwriter')\n",
    "\n",
    "df_pub_date.to_excel(writer,sheet_name='pub_date_value',index = False)\n",
    "df_pub.to_excel(writer,sheet_name='pub_value',index = True)\n",
    "\n",
    "writer.save()"
   ]
  },
  {
   "cell_type": "code",
   "execution_count": null,
   "id": "anonymous-barbados",
   "metadata": {},
   "outputs": [],
   "source": []
  }
 ],
 "metadata": {
  "kernelspec": {
   "display_name": "Python 3",
   "language": "python",
   "name": "python3"
  },
  "language_info": {
   "codemirror_mode": {
    "name": "ipython",
    "version": 3
   },
   "file_extension": ".py",
   "mimetype": "text/x-python",
   "name": "python",
   "nbconvert_exporter": "python",
   "pygments_lexer": "ipython3",
   "version": "3.7.6"
  }
 },
 "nbformat": 4,
 "nbformat_minor": 5
}
